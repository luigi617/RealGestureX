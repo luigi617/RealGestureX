{
 "cells": [
  {
   "cell_type": "code",
   "execution_count": null,
   "metadata": {
    "tags": []
   },
   "outputs": [
    {
     "name": "stdout",
     "output_type": "stream",
     "text": [
      "/opt/conda/lib/python3.10/site-packages/torchvision/models/_utils.py:208: UserWarning: The parameter 'pretrained' is deprecated since 0.13 and may be removed in the future, please use 'weights' instead.\n",
      "  warnings.warn(\n",
      "/opt/conda/lib/python3.10/site-packages/torchvision/models/_utils.py:223: UserWarning: Arguments other than a weight enum or `None` for 'weights' are deprecated since 0.13 and may be removed in the future. The current behavior is equivalent to passing `weights=ResNet34_Weights.IMAGENET1K_V1`. You can also use `weights=ResNet34_Weights.DEFAULT` to get the most up-to-date weights.\n",
      "  warnings.warn(msg)\n",
      "Epoch [1/1000] Train Loss: 1.3579 Train Acc: 46.29% Val Loss: 0.8423 Val Acc: 67.21%\n",
      "Best model saved with Val Acc: 67.21%\n",
      "Epoch [2/1000] Train Loss: 0.7751 Train Acc: 68.80% Val Loss: 0.5361 Val Acc: 81.15%\n",
      "Best model saved with Val Acc: 81.15%\n",
      "Epoch [3/1000] Train Loss: 0.5393 Train Acc: 79.22% Val Loss: 0.4245 Val Acc: 86.48%\n",
      "Best model saved with Val Acc: 86.48%\n",
      "Epoch [4/1000] Train Loss: 0.4015 Train Acc: 83.94% Val Loss: 0.4686 Val Acc: 81.15%\n",
      "Epoch [5/1000] Train Loss: 0.3429 Train Acc: 87.14% Val Loss: 0.3025 Val Acc: 86.48%\n",
      "Epoch [6/1000] Train Loss: 0.2137 Train Acc: 92.48% Val Loss: 0.2753 Val Acc: 89.75%\n",
      "Best model saved with Val Acc: 89.75%\n",
      "Epoch [7/1000] Train Loss: 0.1718 Train Acc: 93.90% Val Loss: 0.1269 Val Acc: 95.49%\n",
      "Best model saved with Val Acc: 95.49%\n",
      "Epoch [8/1000] Train Loss: 0.1974 Train Acc: 92.63% Val Loss: 0.1541 Val Acc: 94.67%\n",
      "Epoch [9/1000] Train Loss: 0.1788 Train Acc: 93.45% Val Loss: 0.1048 Val Acc: 96.72%\n",
      "Best model saved with Val Acc: 96.72%\n",
      "Epoch [10/1000] Train Loss: 0.0965 Train Acc: 96.54% Val Loss: 0.0779 Val Acc: 97.95%\n",
      "Best model saved with Val Acc: 97.95%\n",
      "Epoch [11/1000] Train Loss: 0.1171 Train Acc: 95.88% Val Loss: 0.1483 Val Acc: 95.90%\n",
      "Epoch [12/1000] Train Loss: 0.1065 Train Acc: 96.39% Val Loss: 0.0357 Val Acc: 99.18%\n",
      "Best model saved with Val Acc: 99.18%\n",
      "Epoch [13/1000] Train Loss: 0.0809 Train Acc: 97.31% Val Loss: 0.1174 Val Acc: 95.49%\n",
      "Epoch [14/1000] Train Loss: 0.0453 Train Acc: 98.68% Val Loss: 0.0361 Val Acc: 98.36%\n",
      "Epoch [15/1000] Train Loss: 0.1036 Train Acc: 96.14% Val Loss: 0.1370 Val Acc: 95.49%\n",
      "Epoch [16/1000] Train Loss: 0.0534 Train Acc: 98.27% Val Loss: 0.1178 Val Acc: 95.49%\n",
      "Epoch [17/1000] Train Loss: 0.0699 Train Acc: 97.66% Val Loss: 0.0874 Val Acc: 97.95%\n",
      "Epoch [18/1000] Train Loss: 0.0892 Train Acc: 97.05% Val Loss: 0.1798 Val Acc: 94.26%\n",
      "Epoch [19/1000] Train Loss: 0.0477 Train Acc: 98.58% Val Loss: 0.0310 Val Acc: 98.77%\n",
      "Epoch [20/1000] Train Loss: 0.0453 Train Acc: 98.42% Val Loss: 0.0896 Val Acc: 96.31%\n",
      "Epoch [21/1000] Train Loss: 0.0558 Train Acc: 98.22% Val Loss: 0.0410 Val Acc: 97.95%\n",
      "Epoch [22/1000] Train Loss: 0.0243 Train Acc: 99.24% Val Loss: 0.0207 Val Acc: 98.77%\n",
      "Early stopping triggered after 10 epochs with no improvement.\n",
      "/home/jupyter/RealGestureX/scripts/gesture_recognition_cnn/train_dynamic.py:170: FutureWarning: You are using `torch.load` with `weights_only=False` (the current default value), which uses the default pickle module implicitly. It is possible to construct malicious pickle data which will execute arbitrary code during unpickling (See https://github.com/pytorch/pytorch/blob/main/SECURITY.md#untrusted-models for more details). In a future release, the default value for `weights_only` will be flipped to `True`. This limits the functions that could be executed during unpickling. Arbitrary objects will no longer be allowed to be loaded via this mode unless they are explicitly allowlisted by the user via `torch.serialization.add_safe_globals`. We recommend you start setting `weights_only=True` for any use case where you don't have full control of the loaded file. Please open an issue on GitHub for any issues related to this experimental feature.\n",
      "  model.load_state_dict(torch.load('models/parameters/dynamic_gesture_cnn_model.pth', map_location=torch.device(device)))\n"
     ]
    }
   ],
   "source": [
    "!python3 -m scripts.gesture_recognition_cnn.train_dynamic"
   ]
  },
  {
   "cell_type": "code",
   "execution_count": null,
   "metadata": {},
   "outputs": [],
   "source": [
    "!python3 -m scripts.hand_tracking.train_yolo"
   ]
  },
  {
   "cell_type": "code",
   "execution_count": null,
   "metadata": {},
   "outputs": [],
   "source": []
  }
 ],
 "metadata": {
  "environment": {
   "kernel": "conda-base-py",
   "name": "workbench-notebooks.m125",
   "type": "gcloud",
   "uri": "us-docker.pkg.dev/deeplearning-platform-release/gcr.io/workbench-notebooks:m125"
  },
  "kernelspec": {
   "display_name": "Python 3 (ipykernel)",
   "language": "python",
   "name": "conda-base-py"
  },
  "language_info": {
   "codemirror_mode": {
    "name": "ipython",
    "version": 3
   },
   "file_extension": ".py",
   "mimetype": "text/x-python",
   "name": "python",
   "nbconvert_exporter": "python",
   "pygments_lexer": "ipython3",
   "version": "3.10.15"
  }
 },
 "nbformat": 4,
 "nbformat_minor": 4
}
