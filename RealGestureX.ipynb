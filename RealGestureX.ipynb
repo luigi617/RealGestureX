{
 "cells": [
  {
   "cell_type": "code",
   "execution_count": null,
   "metadata": {
    "tags": []
   },
   "outputs": [
    {
     "name": "stdout",
     "output_type": "stream",
     "text": [
      "Epoch [1/1000] Train Loss: 1.5557 Train Acc: 46.83% Val Loss: 0.9201 Val Acc: 71.39%\n",
      "Best model saved with Val Acc: 71.39%\n",
      "Epoch [2/1000] Train Loss: 0.7614 Train Acc: 74.49% Val Loss: 0.4724 Val Acc: 84.37%\n",
      "Best model saved with Val Acc: 84.37%\n",
      "Epoch [3/1000] Train Loss: 0.4755 Train Acc: 83.93% Val Loss: 0.4129 Val Acc: 86.42%\n",
      "Best model saved with Val Acc: 86.42%\n",
      "Epoch [4/1000] Train Loss: 0.3548 Train Acc: 87.95% Val Loss: 0.2799 Val Acc: 91.52%\n",
      "Best model saved with Val Acc: 91.52%\n",
      "Epoch [5/1000] Train Loss: 0.2862 Train Acc: 90.53% Val Loss: 0.2706 Val Acc: 91.46%\n",
      "Epoch [6/1000] Train Loss: 0.2143 Train Acc: 92.73% Val Loss: 0.2075 Val Acc: 94.24%\n",
      "Best model saved with Val Acc: 94.24%\n",
      "Epoch [7/1000] Train Loss: 0.1928 Train Acc: 93.53% Val Loss: 0.2504 Val Acc: 92.12%\n",
      "Epoch [8/1000] Train Loss: 0.1502 Train Acc: 95.03% Val Loss: 0.2220 Val Acc: 93.91%\n",
      "Epoch [9/1000] Train Loss: 0.1365 Train Acc: 95.49% Val Loss: 0.6238 Val Acc: 87.68%\n",
      "Epoch [10/1000] Train Loss: 0.1372 Train Acc: 95.57% Val Loss: 0.1931 Val Acc: 94.83%\n",
      "Best model saved with Val Acc: 94.83%\n",
      "Epoch [11/1000] Train Loss: 0.1067 Train Acc: 96.36% Val Loss: 0.2330 Val Acc: 93.51%\n",
      "Epoch [12/1000] Train Loss: 0.1143 Train Acc: 96.45% Val Loss: 0.2391 Val Acc: 93.91%\n",
      "Epoch [13/1000] Train Loss: 0.1097 Train Acc: 96.56% Val Loss: 0.1809 Val Acc: 95.50%\n",
      "Best model saved with Val Acc: 95.50%\n",
      "Epoch [14/1000] Train Loss: 0.0844 Train Acc: 97.21% Val Loss: 0.2411 Val Acc: 94.57%\n",
      "Epoch [15/1000] Train Loss: 0.0892 Train Acc: 97.27% Val Loss: 0.2380 Val Acc: 94.90%\n",
      "Epoch [16/1000] Train Loss: 0.0786 Train Acc: 97.42% Val Loss: 0.2913 Val Acc: 94.17%\n",
      "Epoch [17/1000] Train Loss: 0.0961 Train Acc: 97.06% Val Loss: 0.3308 Val Acc: 93.38%\n",
      "Epoch [18/1000] Train Loss: 0.0754 Train Acc: 97.65% Val Loss: 0.2748 Val Acc: 93.18%\n",
      "Epoch [19/1000] Train Loss: 0.0896 Train Acc: 97.40% Val Loss: 0.2312 Val Acc: 94.24%\n",
      "Epoch [20/1000] Train Loss: 0.0684 Train Acc: 97.93% Val Loss: 0.2906 Val Acc: 94.37%\n",
      "Epoch [21/1000] Train Loss: 0.0595 Train Acc: 98.23% Val Loss: 0.2145 Val Acc: 95.70%\n",
      "Best model saved with Val Acc: 95.70%\n",
      "Epoch [22/1000] Train Loss: 0.0529 Train Acc: 98.28% Val Loss: 0.2810 Val Acc: 94.70%\n",
      "Epoch [23/1000] Train Loss: 0.0783 Train Acc: 97.69% Val Loss: 0.4120 Val Acc: 92.25%\n",
      "Epoch [24/1000] Train Loss: 0.0657 Train Acc: 98.08% Val Loss: 0.2633 Val Acc: 94.70%\n",
      "Epoch 25/1000:  83%|▊| 631/758 [00:20<00:03, 33.36it/s, accuracy=97.9, loss=0.00"
     ]
    }
   ],
   "source": [
    "!python3 -m scripts.gesture_recognition_cnn.train_static"
   ]
  },
  {
   "cell_type": "code",
   "execution_count": null,
   "metadata": {},
   "outputs": [],
   "source": [
    "!python3 -m scripts.hand_tracking.train_yolo"
   ]
  },
  {
   "cell_type": "code",
   "execution_count": null,
   "metadata": {},
   "outputs": [],
   "source": []
  }
 ],
 "metadata": {
  "environment": {
   "kernel": "conda-base-py",
   "name": "workbench-notebooks.m125",
   "type": "gcloud",
   "uri": "us-docker.pkg.dev/deeplearning-platform-release/gcr.io/workbench-notebooks:m125"
  },
  "kernelspec": {
   "display_name": "Python 3 (ipykernel)",
   "language": "python",
   "name": "conda-base-py"
  },
  "language_info": {
   "codemirror_mode": {
    "name": "ipython",
    "version": 3
   },
   "file_extension": ".py",
   "mimetype": "text/x-python",
   "name": "python",
   "nbconvert_exporter": "python",
   "pygments_lexer": "ipython3",
   "version": "3.10.15"
  }
 },
 "nbformat": 4,
 "nbformat_minor": 4
}
