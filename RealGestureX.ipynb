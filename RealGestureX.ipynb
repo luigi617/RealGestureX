{
 "cells": [
  {
   "cell_type": "code",
   "execution_count": 5,
   "metadata": {
    "tags": []
   },
   "outputs": [
    {
     "name": "stdout",
     "output_type": "stream",
     "text": [
      "Epoch [1/1000] Train Loss: 1.2931 Train Acc: 55.67% Val Loss: 0.5423 Val Acc: 82.93%\n",
      "Best model saved with Val Acc: 82.93%\n",
      "Epoch [2/1000] Train Loss: 0.4687 Train Acc: 84.64% Val Loss: 0.2733 Val Acc: 91.54%\n",
      "Best model saved with Val Acc: 91.54%\n",
      "Epoch [3/1000] Train Loss: 0.2654 Train Acc: 91.13% Val Loss: 0.2134 Val Acc: 93.66%\n",
      "Best model saved with Val Acc: 93.66%\n",
      "Epoch [4/1000] Train Loss: 0.1624 Train Acc: 94.48% Val Loss: 0.2172 Val Acc: 92.60%\n",
      "Epoch [5/1000] Train Loss: 0.1042 Train Acc: 96.39% Val Loss: 0.1468 Val Acc: 95.92%\n",
      "Best model saved with Val Acc: 95.92%\n",
      "Epoch [6/1000] Train Loss: 0.0934 Train Acc: 96.68% Val Loss: 0.1305 Val Acc: 96.53%\n",
      "Best model saved with Val Acc: 96.53%\n",
      "Epoch [7/1000] Train Loss: 0.0845 Train Acc: 97.13% Val Loss: 0.1124 Val Acc: 96.53%\n",
      "Epoch [8/1000] Train Loss: 0.0664 Train Acc: 97.71% Val Loss: 0.1483 Val Acc: 94.71%\n",
      "Epoch [9/1000] Train Loss: 0.0713 Train Acc: 97.76% Val Loss: 0.1173 Val Acc: 96.53%\n",
      "Epoch [10/1000] Train Loss: 0.0517 Train Acc: 98.37% Val Loss: 0.1413 Val Acc: 96.53%\n",
      "Epoch [11/1000] Train Loss: 0.0591 Train Acc: 98.18% Val Loss: 0.1621 Val Acc: 96.07%\n",
      "Epoch [12/1000] Train Loss: 0.0671 Train Acc: 97.75% Val Loss: 0.1443 Val Acc: 95.92%\n",
      "Epoch [13/1000] Train Loss: 0.0570 Train Acc: 98.31% Val Loss: 0.1702 Val Acc: 95.77%\n",
      "Epoch [14/1000] Train Loss: 0.0470 Train Acc: 98.55% Val Loss: 0.1388 Val Acc: 96.37%\n",
      "Epoch [15/1000] Train Loss: 0.0561 Train Acc: 98.38% Val Loss: 0.1117 Val Acc: 96.53%\n",
      "Epoch [16/1000] Train Loss: 0.0280 Train Acc: 99.04% Val Loss: 0.1100 Val Acc: 97.13%\n",
      "Best model saved with Val Acc: 97.13%\n",
      "Epoch [17/1000] Train Loss: 0.0410 Train Acc: 98.69% Val Loss: 0.1105 Val Acc: 96.68%\n",
      "Epoch [18/1000] Train Loss: 0.0278 Train Acc: 99.17% Val Loss: 0.2357 Val Acc: 95.32%\n",
      "Epoch [19/1000] Train Loss: 0.0342 Train Acc: 98.85% Val Loss: 0.1855 Val Acc: 95.32%\n",
      "Epoch [20/1000] Train Loss: 0.0386 Train Acc: 98.72% Val Loss: 0.1822 Val Acc: 95.32%\n",
      "Epoch [21/1000] Train Loss: 0.0345 Train Acc: 99.04% Val Loss: 0.1860 Val Acc: 96.22%\n",
      "Epoch [22/1000] Train Loss: 0.0429 Train Acc: 98.76% Val Loss: 0.2336 Val Acc: 94.86%\n",
      "Epoch [23/1000] Train Loss: 0.0460 Train Acc: 98.78% Val Loss: 0.1840 Val Acc: 96.07%\n",
      "Epoch [24/1000] Train Loss: 0.0400 Train Acc: 98.82% Val Loss: 0.2277 Val Acc: 95.62%\n",
      "Epoch [25/1000] Train Loss: 0.0202 Train Acc: 99.23% Val Loss: 0.1410 Val Acc: 97.13%\n",
      "Epoch [26/1000] Train Loss: 0.0206 Train Acc: 99.31% Val Loss: 0.2926 Val Acc: 93.96%\n",
      "Epoch [27/1000] Train Loss: 0.0276 Train Acc: 99.27% Val Loss: 0.1255 Val Acc: 97.43%\n",
      "Best model saved with Val Acc: 97.43%\n",
      "Epoch [28/1000] Train Loss: 0.0184 Train Acc: 99.34% Val Loss: 0.1627 Val Acc: 96.98%\n",
      "Epoch [29/1000] Train Loss: 0.0144 Train Acc: 99.51% Val Loss: 0.2473 Val Acc: 95.62%\n",
      "Epoch [30/1000] Train Loss: 0.0502 Train Acc: 98.50% Val Loss: 0.1553 Val Acc: 96.98%\n",
      "Epoch [31/1000] Train Loss: 0.0261 Train Acc: 99.25% Val Loss: 0.2173 Val Acc: 95.47%\n",
      "Epoch [32/1000] Train Loss: 0.0158 Train Acc: 99.46% Val Loss: 0.2001 Val Acc: 96.22%\n",
      "Epoch [33/1000] Train Loss: 0.0305 Train Acc: 99.23% Val Loss: 0.2718 Val Acc: 94.26%\n",
      "Epoch [34/1000] Train Loss: 0.0341 Train Acc: 98.99% Val Loss: 0.2094 Val Acc: 96.53%\n",
      "Epoch [35/1000] Train Loss: 0.0280 Train Acc: 99.14% Val Loss: 0.3970 Val Acc: 92.60%\n",
      "Epoch [36/1000] Train Loss: 0.0262 Train Acc: 99.21% Val Loss: 0.1657 Val Acc: 97.13%\n",
      "Epoch [37/1000] Train Loss: 0.0211 Train Acc: 99.32% Val Loss: 0.2516 Val Acc: 95.77%\n",
      "Epoch [38/1000] Train Loss: 0.0237 Train Acc: 99.42% Val Loss: 0.1958 Val Acc: 96.53%\n",
      "Epoch [39/1000] Train Loss: 0.0154 Train Acc: 99.55% Val Loss: 0.2171 Val Acc: 96.37%\n",
      "Epoch [40/1000] Train Loss: 0.0111 Train Acc: 99.64% Val Loss: 0.1509 Val Acc: 96.83%\n",
      "Epoch [41/1000] Train Loss: 0.0289 Train Acc: 99.10% Val Loss: 0.1987 Val Acc: 96.37%\n",
      "Epoch [42/1000] Train Loss: 0.0205 Train Acc: 99.46% Val Loss: 0.2051 Val Acc: 97.43%\n",
      "Epoch [43/1000] Train Loss: 0.0297 Train Acc: 99.19% Val Loss: 0.1640 Val Acc: 97.28%\n",
      "Epoch [44/1000] Train Loss: 0.0189 Train Acc: 99.49% Val Loss: 0.2875 Val Acc: 96.07%\n",
      "Epoch [45/1000] Train Loss: 0.0275 Train Acc: 99.32% Val Loss: 0.2842 Val Acc: 95.47%\n",
      "Epoch [46/1000] Train Loss: 0.0128 Train Acc: 99.62% Val Loss: 0.2180 Val Acc: 96.22%\n",
      "Epoch [47/1000] Train Loss: 0.0138 Train Acc: 99.59% Val Loss: 0.2064 Val Acc: 95.62%\n",
      "Early stopping triggered after 20 epochs with no improvement.\n",
      "/home/jupyter/RealGestureX/scripts/gesture_recognition_cnn/train_static.py:153: FutureWarning: You are using `torch.load` with `weights_only=False` (the current default value), which uses the default pickle module implicitly. It is possible to construct malicious pickle data which will execute arbitrary code during unpickling (See https://github.com/pytorch/pytorch/blob/main/SECURITY.md#untrusted-models for more details). In a future release, the default value for `weights_only` will be flipped to `True`. This limits the functions that could be executed during unpickling. Arbitrary objects will no longer be allowed to be loaded via this mode unless they are explicitly allowlisted by the user via `torch.serialization.add_safe_globals`. We recommend you start setting `weights_only=True` for any use case where you don't have full control of the loaded file. Please open an issue on GitHub for any issues related to this experimental feature.\n",
      "  model.load_state_dict(torch.load('models/parameters/static_gesture_cnn_model.pth'))\n",
      "\n",
      "Final Accuracies of the Best Model:\n",
      "Training Accuracy: 100.00%\n",
      "Validation Accuracy: 97.43%\n",
      "Test Accuracy: 97.47%\n"
     ]
    }
   ],
   "source": [
    "!python3 -m scripts.gesture_recognition_cnn.train_static"
   ]
  },
  {
   "cell_type": "code",
   "execution_count": null,
   "metadata": {},
   "outputs": [],
   "source": [
    "!python3 -m scripts.hand_tracking.train_yolo"
   ]
  },
  {
   "cell_type": "code",
   "execution_count": null,
   "metadata": {},
   "outputs": [],
   "source": []
  }
 ],
 "metadata": {
  "environment": {
   "kernel": "conda-base-py",
   "name": "workbench-notebooks.m125",
   "type": "gcloud",
   "uri": "us-docker.pkg.dev/deeplearning-platform-release/gcr.io/workbench-notebooks:m125"
  },
  "kernelspec": {
   "display_name": "Python 3 (ipykernel)",
   "language": "python",
   "name": "conda-base-py"
  },
  "language_info": {
   "codemirror_mode": {
    "name": "ipython",
    "version": 3
   },
   "file_extension": ".py",
   "mimetype": "text/x-python",
   "name": "python",
   "nbconvert_exporter": "python",
   "pygments_lexer": "ipython3",
   "version": "3.10.15"
  }
 },
 "nbformat": 4,
 "nbformat_minor": 4
}
